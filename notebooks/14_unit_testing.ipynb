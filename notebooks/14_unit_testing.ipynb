{
 "cells": [
  {
   "cell_type": "markdown",
   "metadata": {},
   "source": [
    "# Модульное тестирование"
   ]
  },
  {
   "cell_type": "code",
   "execution_count": 1,
   "metadata": {},
   "outputs": [],
   "source": [
    "import sys\n",
    "\n",
    "sys.path.append('..')"
   ]
  },
  {
   "cell_type": "markdown",
   "metadata": {},
   "source": [
    "# 1. Самый популярный автор"
   ]
  },
  {
   "cell_type": "code",
   "execution_count": 2,
   "metadata": {},
   "outputs": [
    {
     "name": "stdout",
     "output_type": "stream",
     "text": [
      "\n",
      "        Id: 0, \n",
      "        First Name: FirstName2,\n",
      "        Last Name: LastName2,\n",
      "        Email: test@2.again\n",
      "    \n"
     ]
    }
   ],
   "source": [
    "from modules.test.like_repository import LikeRepository\n",
    "\n",
    "from modules.test.like_service import LikeService\n",
    "\n",
    "like_repository = LikeRepository()\n",
    "\n",
    "like_service = LikeService(like_repository)\n",
    "\n",
    "if like_service.most_liked_author != None:\n",
    "    print(f'''\n",
    "        Id: {like_service.most_liked_author.id}, \n",
    "        First Name: {like_service.most_liked_author.first_name},\n",
    "        Last Name: {like_service.most_liked_author.last_name},\n",
    "        Email: {like_service.most_liked_author.email}\n",
    "    ''')"
   ]
  }
 ],
 "metadata": {
  "kernelspec": {
   "display_name": ".venv",
   "language": "python",
   "name": "python3"
  },
  "language_info": {
   "codemirror_mode": {
    "name": "ipython",
    "version": 3
   },
   "file_extension": ".py",
   "mimetype": "text/x-python",
   "name": "python",
   "nbconvert_exporter": "python",
   "pygments_lexer": "ipython3",
   "version": "3.11.7"
  }
 },
 "nbformat": 4,
 "nbformat_minor": 2
}
