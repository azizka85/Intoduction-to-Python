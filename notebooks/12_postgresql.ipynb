{
 "cells": [
  {
   "cell_type": "markdown",
   "metadata": {},
   "source": [
    "# Работа с базой данных PostgreSQL"
   ]
  },
  {
   "cell_type": "markdown",
   "metadata": {},
   "source": [
    "### 1. Соединение с бд PostgreSQL"
   ]
  },
  {
   "cell_type": "code",
   "execution_count": 1,
   "metadata": {},
   "outputs": [
    {
     "data": {
      "text/plain": [
       "[(3, 2, 'Title4 of user2', 'Text4 of user2', 'Abstract4 of user2'),\n",
       " (5, None, 'Title3', 'Text3', 'Abstract3'),\n",
       " (1, 1, 'Title1 of user1', 'Text1 of user1', 'Abstract1 of user1'),\n",
       " (2, 1, 'Title2 of user1', 'Text2 of user1', 'Abstract2 of user1'),\n",
       " (4, 3, 'Title #6 of user #3', 'Text #6 of user #3', 'Abstract #6 of user #3'),\n",
       " (6, None, 'Title #6', 'Text #6', 'Abstract #6')]"
      ]
     },
     "execution_count": 1,
     "metadata": {},
     "output_type": "execute_result"
    }
   ],
   "source": [
    "import os\n",
    "from dotenv import load_dotenv\n",
    "import psycopg\n",
    "\n",
    "load_dotenv()\n",
    "\n",
    "data = []\n",
    "\n",
    "with psycopg.connect(\n",
    "    dbname=os.getenv(\"POSTGRESQL_DB\"), \n",
    "    user=os.getenv(\"POSTGRESQL_USER\"),\n",
    "    password=os.getenv(\"POSTGRESQL_PWD\"),\n",
    "    host=os.getenv(\"POSTGRESQL_HOST\")\n",
    ") as conn:\n",
    "    with conn.cursor() as cur:\n",
    "        cur.execute('select * from posts')\n",
    "        data = cur.fetchall()\n",
    "\n",
    "data"
   ]
  },
  {
   "cell_type": "markdown",
   "metadata": {},
   "source": [
    "### 2. Добавление записи"
   ]
  },
  {
   "cell_type": "code",
   "execution_count": 2,
   "metadata": {},
   "outputs": [
    {
     "data": {
      "text/plain": [
       "14"
      ]
     },
     "execution_count": 2,
     "metadata": {},
     "output_type": "execute_result"
    }
   ],
   "source": [
    "user_id = None\n",
    "\n",
    "with psycopg.connect(\n",
    "    dbname=os.getenv(\"POSTGRESQL_DB\"), \n",
    "    user=os.getenv(\"POSTGRESQL_USER\"),\n",
    "    password=os.getenv(\"POSTGRESQL_PWD\"),\n",
    "    host=os.getenv(\"POSTGRESQL_HOST\")\n",
    ") as conn:\n",
    "    with conn.cursor() as cur:\n",
    "        cur.execute('''\n",
    "            insert into users(first_name, last_name, email, password)\n",
    "            values ('Test #7', 'Test #7', 'test@7.again', 'again')\n",
    "            returning id;\n",
    "        ''')    \n",
    "\n",
    "        user_id = cur.fetchone()[0]    \n",
    "\n",
    "user_id"
   ]
  },
  {
   "cell_type": "markdown",
   "metadata": {},
   "source": [
    "### 3. Удаление записи"
   ]
  },
  {
   "cell_type": "code",
   "execution_count": 3,
   "metadata": {},
   "outputs": [],
   "source": [
    "with psycopg.connect(\n",
    "    dbname=os.getenv(\"POSTGRESQL_DB\"), \n",
    "    user=os.getenv(\"POSTGRESQL_USER\"),\n",
    "    password=os.getenv(\"POSTGRESQL_PWD\"),\n",
    "    host=os.getenv(\"POSTGRESQL_HOST\")\n",
    ") as conn:\n",
    "    with conn.cursor() as cur:\n",
    "        cur.execute('delete from users where id = (%s);', (user_id,))"
   ]
  },
  {
   "cell_type": "markdown",
   "metadata": {},
   "source": [
    "### 4. Выполнение функции"
   ]
  },
  {
   "cell_type": "code",
   "execution_count": 4,
   "metadata": {},
   "outputs": [
    {
     "data": {
      "text/plain": [
       "[('(,,,,5,Title3,Abstract3,1,t)',),\n",
       " ('(,,,,6,\"Title #6\",\"Abstract #6\",1,t)',),\n",
       " ('(1,Test#1,Test#1,,2,\"Title2 of user1\",\"Abstract2 of user1\",3,t)',),\n",
       " ('(1,Test#1,Test#1,,1,\"Title1 of user1\",\"Abstract1 of user1\",4,t)',)]"
      ]
     },
     "execution_count": 4,
     "metadata": {},
     "output_type": "execute_result"
    }
   ],
   "source": [
    "with psycopg.connect(\n",
    "    dbname=os.getenv(\"POSTGRESQL_DB\"), \n",
    "    user=os.getenv(\"POSTGRESQL_USER\"),\n",
    "    password=os.getenv(\"POSTGRESQL_PWD\"),\n",
    "    host=os.getenv(\"POSTGRESQL_HOST\")\n",
    ") as conn:\n",
    "    with conn.cursor() as cur:\n",
    "        cur.execute('select list_liked_posts(2);')\n",
    "        data = cur.fetchall()\n",
    "\n",
    "data"
   ]
  }
 ],
 "metadata": {
  "kernelspec": {
   "display_name": ".venv",
   "language": "python",
   "name": "python3"
  },
  "language_info": {
   "codemirror_mode": {
    "name": "ipython",
    "version": 3
   },
   "file_extension": ".py",
   "mimetype": "text/x-python",
   "name": "python",
   "nbconvert_exporter": "python",
   "pygments_lexer": "ipython3",
   "version": "3.11.7"
  }
 },
 "nbformat": 4,
 "nbformat_minor": 2
}
