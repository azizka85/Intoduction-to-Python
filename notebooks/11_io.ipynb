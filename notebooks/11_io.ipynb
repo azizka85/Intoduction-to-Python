{
 "cells": [
  {
   "cell_type": "markdown",
   "metadata": {},
   "source": [
    "# Работа с текстовыми файлами"
   ]
  },
  {
   "cell_type": "markdown",
   "metadata": {},
   "source": [
    "### 1. Запись текста в файл"
   ]
  },
  {
   "cell_type": "code",
   "execution_count": 79,
   "metadata": {},
   "outputs": [
    {
     "data": {
      "text/plain": [
       "182"
      ]
     },
     "execution_count": 79,
     "metadata": {},
     "output_type": "execute_result"
    }
   ],
   "source": [
    "poem = '''\n",
    "    I am the alpha, I am the omega,\n",
    "    I am the beginning, I am the end,\n",
    "    There is no then, there is no tomorrow,\n",
    "    There is no now, no time at all,\n",
    "    Only me, the supreme.\n",
    "'''\n",
    "\n",
    "len(poem)"
   ]
  },
  {
   "cell_type": "code",
   "execution_count": 80,
   "metadata": {},
   "outputs": [
    {
     "data": {
      "text/plain": [
       "182"
      ]
     },
     "execution_count": 80,
     "metadata": {},
     "output_type": "execute_result"
    }
   ],
   "source": [
    "fout = open('../data/oppenheimer.txt', 'wt')\n",
    "fout.write(poem)"
   ]
  },
  {
   "cell_type": "code",
   "execution_count": 81,
   "metadata": {},
   "outputs": [],
   "source": [
    "fout.close()"
   ]
  },
  {
   "cell_type": "code",
   "execution_count": 82,
   "metadata": {},
   "outputs": [],
   "source": [
    "with open('../data/oppenheimer.txt', 'wt') as fout:\n",
    "    fout.write(poem)"
   ]
  },
  {
   "cell_type": "markdown",
   "metadata": {},
   "source": [
    "### 2. Чтение текста из файла"
   ]
  },
  {
   "cell_type": "code",
   "execution_count": 83,
   "metadata": {},
   "outputs": [
    {
     "name": "stdout",
     "output_type": "stream",
     "text": [
      "\n",
      "\n",
      "    I am the alpha, I am the omega,\n",
      "\n",
      "    I am the beginning, I am the end,\n",
      "\n",
      "    There is no then, there is no tomorrow,\n",
      "\n",
      "    There is no now, no time at all,\n",
      "\n",
      "    Only me, the supreme.\n",
      "\n"
     ]
    }
   ],
   "source": [
    "fin = open('../data/oppenheimer.txt', 'rt')\n",
    "\n",
    "lines = fin.readlines()\n",
    "\n",
    "fin.close()\n",
    "\n",
    "for line in lines:\n",
    "    print(line)"
   ]
  },
  {
   "cell_type": "code",
   "execution_count": 84,
   "metadata": {},
   "outputs": [
    {
     "name": "stdout",
     "output_type": "stream",
     "text": [
      "\n",
      "\n",
      "    I am the alpha, I am the omega,\n",
      "\n",
      "    I am the beginning, I am the end,\n",
      "\n",
      "    There is no then, there is no tomorrow,\n",
      "\n",
      "    There is no now, no time at all,\n",
      "\n",
      "    Only me, the supreme.\n",
      "\n"
     ]
    }
   ],
   "source": [
    "with open('../data/oppenheimer.txt', 'rt') as fin:\n",
    "    lines = fin.readlines()\n",
    "\n",
    "for line in lines:\n",
    "    print(line)"
   ]
  },
  {
   "cell_type": "markdown",
   "metadata": {},
   "source": [
    "### 3. Работа с текстовым файлом формата CSV"
   ]
  },
  {
   "cell_type": "code",
   "execution_count": 85,
   "metadata": {},
   "outputs": [],
   "source": [
    "import csv\n",
    "\n",
    "diet = [\n",
    "    ['potato', 750],\n",
    "    ['peanut', 150],\n",
    "    ['tomato', 750],\n",
    "    ['cucumber', 500],\n",
    "    ['meat', 300],\n",
    "    ['banana', 300]\n",
    "]\n",
    "\n",
    "with open('../data/diet.csv', 'wt') as fout:\n",
    "    csvout = csv.writer(fout)\n",
    "    csvout.writerows(diet)"
   ]
  },
  {
   "cell_type": "code",
   "execution_count": 86,
   "metadata": {},
   "outputs": [
    {
     "data": {
      "text/plain": [
       "[['potato', '750'],\n",
       " [],\n",
       " ['peanut', '150'],\n",
       " [],\n",
       " ['tomato', '750'],\n",
       " [],\n",
       " ['cucumber', '500'],\n",
       " [],\n",
       " ['meat', '300'],\n",
       " [],\n",
       " ['banana', '300'],\n",
       " []]"
      ]
     },
     "execution_count": 86,
     "metadata": {},
     "output_type": "execute_result"
    }
   ],
   "source": [
    "with open('../data/diet.csv', 'rt') as fin:\n",
    "    cin = csv.reader(fin)\n",
    "    rows = [row for row in cin]\n",
    "\n",
    "rows"
   ]
  },
  {
   "cell_type": "markdown",
   "metadata": {},
   "source": [
    "### 4. Работа с текстом формата JSON"
   ]
  },
  {
   "cell_type": "code",
   "execution_count": 76,
   "metadata": {},
   "outputs": [
    {
     "data": {
      "text/plain": [
       "'{\"breakfast\": {\"hours\": \"7-11\", \"items\": {\"breakfast burritos\": \"$6.00\", \"pancakes\": \"$4.00\"}}, \"lunch\": {\"hours\": \"11-3\", \"items\": {\"hamburger\": \"$6.00\"}}, \"dinner\": {\"hours\": \"3-10\", \"items\": {\"spaghetti\": \"$8.00\"}}}'"
      ]
     },
     "execution_count": 76,
     "metadata": {},
     "output_type": "execute_result"
    }
   ],
   "source": [
    "import json\n",
    "\n",
    "menu = {\n",
    "    'breakfast': {\n",
    "        'hours': '7-11',\n",
    "        'items': {\n",
    "            'breakfast burritos': '$6.00',\n",
    "            'pancakes': '$4.00'\n",
    "        }\n",
    "    },\n",
    "    'lunch': {\n",
    "        'hours': '11-3',\n",
    "        'items': {\n",
    "            'hamburger': '$6.00'\n",
    "        }\n",
    "    },\n",
    "    'dinner': {\n",
    "        'hours': '3-10',\n",
    "        'items': {\n",
    "            'spaghetti': '$8.00'\n",
    "        }\n",
    "    }\n",
    "}\n",
    "\n",
    "menu_json = json.dumps(menu)\n",
    "\n",
    "menu_json"
   ]
  },
  {
   "cell_type": "code",
   "execution_count": 77,
   "metadata": {},
   "outputs": [
    {
     "data": {
      "text/plain": [
       "{'breakfast': {'hours': '7-11',\n",
       "  'items': {'breakfast burritos': '$6.00', 'pancakes': '$4.00'}},\n",
       " 'lunch': {'hours': '11-3', 'items': {'hamburger': '$6.00'}},\n",
       " 'dinner': {'hours': '3-10', 'items': {'spaghetti': '$8.00'}}}"
      ]
     },
     "execution_count": 77,
     "metadata": {},
     "output_type": "execute_result"
    }
   ],
   "source": [
    "menu_dic = json.loads(menu_json)\n",
    "\n",
    "menu_dic"
   ]
  }
 ],
 "metadata": {
  "kernelspec": {
   "display_name": ".venv",
   "language": "python",
   "name": "python3"
  },
  "language_info": {
   "codemirror_mode": {
    "name": "ipython",
    "version": 3
   },
   "file_extension": ".py",
   "mimetype": "text/x-python",
   "name": "python",
   "nbconvert_exporter": "python",
   "pygments_lexer": "ipython3",
   "version": "3.11.7"
  }
 },
 "nbformat": 4,
 "nbformat_minor": 2
}
